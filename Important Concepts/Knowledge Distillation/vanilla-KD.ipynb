{
 "cells": [
  {
   "cell_type": "code",
   "execution_count": 25,
   "id": "795488fe-f2e0-45cf-9915-b053a86ff264",
   "metadata": {},
   "outputs": [],
   "source": [
    "import torch\n",
    "import torch.nn as nn\n",
    "import torch.nn.functional as F\n",
    "import torch.optim as optim\n",
    "from torchvision import datasets, transforms\n",
    "import torchvision.models as models\n",
    "from torch.utils.data import DataLoader\n",
    "import time\n",
    "import os\n",
    "import copy\n",
    "from torchvision.transforms.functional import to_pil_image\n",
    "import matplotlib.pyplot as plt\n",
    "from tqdm import tqdm\n",
    "%matplotlib inline\n",
    "\n",
    "device = torch.device('cuda' if torch.cuda.is_available() else 'cpu')"
   ]
  },
  {
   "cell_type": "code",
   "execution_count": 4,
   "id": "857a4e46-3a01-4781-a794-ffc3e2e414f7",
   "metadata": {},
   "outputs": [],
   "source": [
    "def createFolder(directory):\n",
    "    try:\n",
    "        if not os.path.exists(directory):\n",
    "            os.makedirs(directory)\n",
    "    except OSerror:\n",
    "        print('Error')\n",
    "createFolder('./data')"
   ]
  },
  {
   "cell_type": "code",
   "execution_count": 5,
   "id": "b6b86626-bb2f-4640-a285-757d4d8fce73",
   "metadata": {},
   "outputs": [],
   "source": [
    "# define transformation\n",
    "ds_transform = transforms.Compose([\n",
    "                        transforms.ToTensor(),\n",
    "                        transforms.Normalize((0.1307,),(0.3081,))\n",
    "])"
   ]
  },
  {
   "cell_type": "code",
   "execution_count": 6,
   "id": "e7e21074-6f28-4bb1-a9a9-76bb2ffad7bb",
   "metadata": {},
   "outputs": [],
   "source": [
    "# load MNIST dataset\n",
    "train_ds = datasets.MNIST('./data',train=True, download=False, transform=ds_transform)\n",
    "val_ds = datasets.MNIST('./data',train=False, download=False, transform=ds_transform)"
   ]
  },
  {
   "cell_type": "code",
   "execution_count": 8,
   "id": "a3126b16-896c-4d4e-93fb-fed12e6fd9c5",
   "metadata": {},
   "outputs": [],
   "source": [
    "# define data loader\n",
    "train_dl = DataLoader(train_ds, batch_size=64, shuffle=True)\n",
    "val_dl = DataLoader(val_ds, batch_size = 128, shuffle=True)"
   ]
  },
  {
   "cell_type": "code",
   "execution_count": 9,
   "id": "19aba77a-29f7-4509-98b1-713d8e5ada9f",
   "metadata": {},
   "outputs": [
    {
     "name": "stdout",
     "output_type": "stream",
     "text": [
      "torch.Size([64, 1, 28, 28]) torch.Size([64])\n"
     ]
    },
    {
     "data": {
      "image/png": "[encoded data removed]",
      "text/plain": [
       "<Figure size 1080x1080 with 4 Axes>"
      ]
     },
     "metadata": {
      "needs_background": "light"
     },
     "output_type": "display_data"
    }
   ],
   "source": [
    "# check sample image\n",
    "for x, y in train_dl:\n",
    "    print(x.shape, y.shape)\n",
    "    break\n",
    "\n",
    "num = 4\n",
    "img = x[:num]\n",
    "\n",
    "plt.figure(figsize=(15,15))\n",
    "for i in range(num):\n",
    "    plt.subplot(1,num+1,i+1)\n",
    "    plt.imshow(to_pil_image(0.1307*img[i]+0.3081), cmap='gray')"
   ]
  },
  {
   "cell_type": "markdown",
   "id": "2a250f6b-3f3c-4784-a892-8a92b4f2b6cf",
   "metadata": {},
   "source": [
    "## Defining Teacher Model\n",
    "For knowledge distillation, the teacher model to obtain soft labels must first be trained. Therefore, we define the teacher model."
   ]
  },
  {
   "cell_type": "code",
   "execution_count": 10,
   "id": "dd8764b0-6979-47ed-bb50-d66a27f6fa7b",
   "metadata": {},
   "outputs": [],
   "source": [
    "class Teacher(nn.Module):\n",
    "    def __init__(self):\n",
    "        super().__init__()\n",
    "        self.fc1 = nn.Linear(28*28, 1200)\n",
    "        self.bn1 = nn.BatchNorm1d(1200)\n",
    "        self.fc2 = nn.Linear(1200,1200)\n",
    "        self.bn2 = nn.BatchNorm1d(1200)\n",
    "        self.fc3 = nn.Linear(1200, 10)\n",
    "    \n",
    "    def forward(self,x):\n",
    "        x = x.view(-1,28*28)\n",
    "        x = F.relu(self.bn1(self.fc1(x)))\n",
    "        x = F.dropout(x,p=0.8)\n",
    "        x = F.relu(self.bn2(self.fc2(x)))\n",
    "        x = F.dropout(x,p=0.8)\n",
    "        x = self.fc3(x)\n",
    "        return x\n",
    "        "
   ]
  },
  {
   "cell_type": "code",
   "execution_count": 11,
   "id": "d9421c1c-9959-40b6-8f89-31f14777fc74",
   "metadata": {},
   "outputs": [
    {
     "name": "stdout",
     "output_type": "stream",
     "text": [
      "torch.Size([16, 10])\n"
     ]
    }
   ],
   "source": [
    "# check\n",
    "x = torch.randn(16,1,28,28).to(device)\n",
    "teacher = Teacher().to(device)\n",
    "output = teacher(x)\n",
    "print(output.shape)"
   ]
  },
  {
   "cell_type": "code",
   "execution_count": 12,
   "id": "2d46cae4-dcb6-482f-b1cb-c1f71090e643",
   "metadata": {},
   "outputs": [],
   "source": [
    "# weight initialization\n",
    "def initialize_weights(model):\n",
    "    classname = model.__class__.__name__\n",
    "    # fc layer\n",
    "    if classname.find('Linear') != -1:\n",
    "        nn.init.normal_(model.weight.data, 0.0, 0.02)\n",
    "        nn.init.constant_(model.bias.data, 0)\n",
    "    # batchnorm\n",
    "    elif classname.find('BatchNorm') != -1:\n",
    "        nn.init.normal_(model.weight.data, 1.0, 0.02)\n",
    "        nn.init.constant_(model.bias.data, 0)\n",
    "\n",
    "teacher.apply(initialize_weights);\n"
   ]
  },
  {
   "cell_type": "markdown",
   "id": "a44f7af1-82c2-44cf-81cc-ab9936adc690",
   "metadata": {},
   "source": [
    "### Training Teacher Model"
   ]
  },
  {
   "cell_type": "code",
   "execution_count": 13,
   "id": "5daba4ad-f57b-4494-b61e-39a23e85c7df",
   "metadata": {},
   "outputs": [],
   "source": [
    "# loss function\n",
    "loss_func = nn.CrossEntropyLoss()\n",
    "\n",
    "# optimizer\n",
    "opt = optim.Adam(teacher.parameters())\n",
    "\n",
    "# lr scheduler\n",
    "from torch.optim.lr_scheduler import ReduceLROnPlateau\n",
    "lr_scheduler = ReduceLROnPlateau(opt, mode='min', factor=0.1, patience=10)"
   ]
  },
  {
   "cell_type": "code",
   "execution_count": 14,
   "id": "9690db2a-4b5a-4f6d-bf8c-4572dc1fa7f6",
   "metadata": {},
   "outputs": [],
   "source": [
    "# get current lr\n",
    "def get_lr(opt):\n",
    "    for param_group in opt.param_groups:\n",
    "        return param_group['lr']\n",
    "\n",
    "\n",
    "# calculate the metric per mini-batch\n",
    "def metric_batch(output, target):\n",
    "    pred = output.argmax(1, keepdim=True)\n",
    "    corrects = pred.eq(target.view_as(pred)).sum().item()\n",
    "    return corrects\n",
    "\n",
    "\n",
    "# calculate the loss per mini-batch\n",
    "def loss_batch(loss_func, output, target, opt=None):\n",
    "    loss_b = loss_func(output, target)\n",
    "    metric_b = metric_batch(output, target)\n",
    "\n",
    "    if opt is not None:\n",
    "        opt.zero_grad()\n",
    "        loss_b.backward()\n",
    "        opt.step()\n",
    "    \n",
    "    return loss_b.item(), metric_b\n",
    "\n",
    "\n",
    "# calculate the loss per epochs\n",
    "def loss_epoch(model, loss_func, dataset_dl, sanity_check=False, opt=None):\n",
    "    running_loss = 0.0\n",
    "    running_metric = 0.0\n",
    "    len_data = len(dataset_dl.dataset)\n",
    "\n",
    "    for xb, yb in dataset_dl:\n",
    "        xb = xb.to(device)\n",
    "        yb = yb.to(device)\n",
    "        output = model(xb)\n",
    "\n",
    "        loss_b, metric_b = loss_batch(loss_func, output, yb, opt)\n",
    "\n",
    "        running_loss += loss_b\n",
    "        \n",
    "        if metric_b is not None:\n",
    "            running_metric += metric_b\n",
    "\n",
    "        if sanity_check is True:\n",
    "            break\n",
    "\n",
    "    loss = running_loss / len_data\n",
    "    metric = running_metric / len_data\n",
    "    return loss, metric\n",
    "\n",
    "\n",
    "# function to start training\n",
    "def train_val(model, params):\n",
    "    num_epochs=params['num_epochs']\n",
    "    loss_func=params['loss_func']\n",
    "    opt=params['optimizer']\n",
    "    train_dl=params['train_dl']\n",
    "    val_dl=params['val_dl']\n",
    "    sanity_check=params['sanity_check']\n",
    "    lr_scheduler=params['lr_scheduler']\n",
    "    path2weights=params['path2weights']\n",
    "\n",
    "    loss_history = {'train': [], 'val': []}\n",
    "    metric_history = {'train': [], 'val': []}\n",
    "\n",
    "    best_loss = float('inf')\n",
    "    best_model_wts = copy.deepcopy(model.state_dict())\n",
    "    start_time = time.time()\n",
    "\n",
    "    for epoch in range(num_epochs):\n",
    "        current_lr = get_lr(opt)\n",
    "        print('Epoch {}/{}, current lr= {}'.format(epoch, num_epochs-1, current_lr))\n",
    "\n",
    "        model.train()\n",
    "        train_loss, train_metric = loss_epoch(model, loss_func, train_dl, sanity_check, opt)\n",
    "        loss_history['train'].append(train_loss)\n",
    "        metric_history['train'].append(train_metric)\n",
    "\n",
    "        model.eval()\n",
    "        with torch.no_grad():\n",
    "            val_loss, val_metric = loss_epoch(model, loss_func, val_dl, sanity_check)\n",
    "        loss_history['val'].append(val_loss)\n",
    "        metric_history['val'].append(val_metric)\n",
    "\n",
    "        if val_loss < best_loss:\n",
    "            best_loss = val_loss\n",
    "            best_model_wts = copy.deepcopy(model.state_dict())\n",
    "            torch.save(model.state_dict(), path2weights)\n",
    "            print('Copied best model weights!')\n",
    "\n",
    "        lr_scheduler.step(val_loss)\n",
    "        if current_lr != get_lr(opt):\n",
    "            print('Loading best model weights!')\n",
    "            model.load_state_dict(best_model_wts)\n",
    "\n",
    "        print('train loss: %.6f, val loss: %.6f, accuracy: %.2f, time: %.4f min' %(train_loss, val_loss, 100*val_metric, (time.time()-start_time)/60))\n",
    "        print('-'*10)\n",
    "\n",
    "    model.load_state_dict(best_model_wts)\n",
    "    return model, loss_history, metric_history"
   ]
  },
  {
   "cell_type": "code",
   "execution_count": 15,
   "id": "654c8f76-93e9-4bb3-9bd1-440f90c265e1",
   "metadata": {},
   "outputs": [],
   "source": [
    "# set hyper parameters\n",
    "params_train = {\n",
    "    'num_epochs':30,\n",
    "    'optimizer':opt,\n",
    "    'loss_func':loss_func,\n",
    "    'train_dl':train_dl,\n",
    "    'val_dl':val_dl,\n",
    "    'sanity_check':False,\n",
    "    'lr_scheduler':lr_scheduler,\n",
    "    'path2weights':'./models/teacher_weights.pt',\n",
    "}\n",
    "\n",
    "createFolder('./models')"
   ]
  },
  {
   "cell_type": "code",
   "execution_count": 16,
   "id": "0e64bd46-d871-43de-bf1a-b77a7f23069f",
   "metadata": {},
   "outputs": [
    {
     "name": "stdout",
     "output_type": "stream",
     "text": [
      "Epoch 0/29, current lr= 0.001\n",
      "Copied best model weights!\n",
      "train loss: 0.007353, val loss: 0.002246, accuracy: 91.17, time: 0.2485 min\n",
      "----------\n",
      "Epoch 1/29, current lr= 0.001\n",
      "Copied best model weights!\n",
      "train loss: 0.004790, val loss: 0.001926, accuracy: 92.83, time: 0.4951 min\n",
      "----------\n",
      "Epoch 2/29, current lr= 0.001\n",
      "Copied best model weights!\n",
      "train loss: 0.004116, val loss: 0.001730, accuracy: 92.87, time: 0.7387 min\n",
      "----------\n",
      "Epoch 3/29, current lr= 0.001\n",
      "Copied best model weights!\n",
      "train loss: 0.003814, val loss: 0.001570, accuracy: 94.07, time: 0.9844 min\n",
      "----------\n",
      "Epoch 4/29, current lr= 0.001\n",
      "train loss: 0.003458, val loss: 0.001584, accuracy: 93.92, time: 1.2226 min\n",
      "----------\n",
      "Epoch 5/29, current lr= 0.001\n",
      "Copied best model weights!\n",
      "train loss: 0.003322, val loss: 0.001524, accuracy: 94.18, time: 1.4594 min\n",
      "----------\n",
      "Epoch 6/29, current lr= 0.001\n",
      "Copied best model weights!\n",
      "train loss: 0.003144, val loss: 0.001449, accuracy: 94.82, time: 1.6981 min\n",
      "----------\n",
      "Epoch 7/29, current lr= 0.001\n",
      "Copied best model weights!\n",
      "train loss: 0.002952, val loss: 0.001356, accuracy: 94.77, time: 1.9372 min\n",
      "----------\n",
      "Epoch 8/29, current lr= 0.001\n",
      "train loss: 0.002848, val loss: 0.001362, accuracy: 94.86, time: 2.1738 min\n",
      "----------\n",
      "Epoch 9/29, current lr= 0.001\n",
      "Copied best model weights!\n",
      "train loss: 0.002676, val loss: 0.001283, accuracy: 95.36, time: 2.4103 min\n",
      "----------\n",
      "Epoch 10/29, current lr= 0.001\n",
      "Copied best model weights!\n",
      "train loss: 0.002583, val loss: 0.001274, accuracy: 95.25, time: 2.6463 min\n",
      "----------\n",
      "Epoch 11/29, current lr= 0.001\n",
      "Copied best model weights!\n",
      "train loss: 0.002456, val loss: 0.001132, accuracy: 95.69, time: 2.8844 min\n",
      "----------\n",
      "Epoch 12/29, current lr= 0.001\n",
      "train loss: 0.002514, val loss: 0.001165, accuracy: 95.93, time: 3.1227 min\n",
      "----------\n",
      "Epoch 13/29, current lr= 0.001\n",
      "train loss: 0.002397, val loss: 0.001144, accuracy: 95.83, time: 3.3586 min\n",
      "----------\n",
      "Epoch 14/29, current lr= 0.001\n",
      "Copied best model weights!\n",
      "train loss: 0.002333, val loss: 0.001086, accuracy: 95.77, time: 3.6040 min\n",
      "----------\n",
      "Epoch 15/29, current lr= 0.001\n",
      "train loss: 0.002247, val loss: 0.001131, accuracy: 95.69, time: 3.8538 min\n",
      "----------\n",
      "Epoch 16/29, current lr= 0.001\n",
      "Copied best model weights!\n",
      "train loss: 0.002203, val loss: 0.001068, accuracy: 95.78, time: 4.1042 min\n",
      "----------\n",
      "Epoch 17/29, current lr= 0.001\n",
      "train loss: 0.002119, val loss: 0.001152, accuracy: 95.95, time: 4.3563 min\n",
      "----------\n",
      "Epoch 18/29, current lr= 0.001\n",
      "train loss: 0.002074, val loss: 0.001095, accuracy: 96.10, time: 4.6079 min\n",
      "----------\n",
      "Epoch 19/29, current lr= 0.001\n",
      "Copied best model weights!\n",
      "train loss: 0.002055, val loss: 0.001068, accuracy: 96.31, time: 4.8480 min\n",
      "----------\n",
      "Epoch 20/29, current lr= 0.001\n",
      "Copied best model weights!\n",
      "train loss: 0.001968, val loss: 0.001015, accuracy: 96.34, time: 5.0884 min\n",
      "----------\n",
      "Epoch 21/29, current lr= 0.001\n",
      "train loss: 0.001922, val loss: 0.001067, accuracy: 96.29, time: 5.3230 min\n",
      "----------\n",
      "Epoch 22/29, current lr= 0.001\n",
      "Copied best model weights!\n",
      "train loss: 0.001984, val loss: 0.000974, accuracy: 96.25, time: 5.5578 min\n",
      "----------\n",
      "Epoch 23/29, current lr= 0.001\n",
      "train loss: 0.001891, val loss: 0.001040, accuracy: 96.20, time: 5.7898 min\n",
      "----------\n",
      "Epoch 24/29, current lr= 0.001\n",
      "train loss: 0.001889, val loss: 0.001007, accuracy: 96.44, time: 6.0278 min\n",
      "----------\n",
      "Epoch 25/29, current lr= 0.001\n",
      "train loss: 0.001816, val loss: 0.001101, accuracy: 96.10, time: 6.2858 min\n",
      "----------\n",
      "Epoch 26/29, current lr= 0.001\n",
      "Copied best model weights!\n",
      "train loss: 0.001770, val loss: 0.000944, accuracy: 96.58, time: 6.5332 min\n",
      "----------\n",
      "Epoch 27/29, current lr= 0.001\n",
      "train loss: 0.001727, val loss: 0.000992, accuracy: 96.45, time: 6.7996 min\n",
      "----------\n",
      "Epoch 28/29, current lr= 0.001\n",
      "train loss: 0.001756, val loss: 0.001111, accuracy: 96.34, time: 7.0527 min\n",
      "----------\n",
      "Epoch 29/29, current lr= 0.001\n",
      "train loss: 0.001737, val loss: 0.001037, accuracy: 96.59, time: 7.3017 min\n",
      "----------\n"
     ]
    }
   ],
   "source": [
    "teacher, loss_hist, metric_hist = train_val(teacher, params_train)"
   ]
  },
  {
   "cell_type": "code",
   "execution_count": 17,
   "id": "d3d58dfe-5e88-4dd1-b873-a664635176dc",
   "metadata": {},
   "outputs": [
    {
     "data": {
      "image/png": "[encoded data removed]",
      "text/plain": [
       "<Figure size 432x288 with 1 Axes>"
      ]
     },
     "metadata": {
      "needs_background": "light"
     },
     "output_type": "display_data"
    },
    {
     "data": {
      "image/png": "[encoded data removed]",
      "text/plain": [
       "<Figure size 432x288 with 1 Axes>"
      ]
     },
     "metadata": {
      "needs_background": "light"
     },
     "output_type": "display_data"
    }
   ],
   "source": [
    "num_epochs = params_train['num_epochs']\n",
    "\n",
    "# Plot train-val loss\n",
    "plt.title('Train-Val Loss')\n",
    "plt.plot(range(1, num_epochs+1), loss_hist['train'], label='train')\n",
    "plt.plot(range(1, num_epochs+1), loss_hist['val'], label='val')\n",
    "plt.ylabel('Loss')\n",
    "plt.xlabel('Training Epochs')\n",
    "plt.legend()\n",
    "plt.show()\n",
    "\n",
    "# plot train-val accuracy\n",
    "plt.title('Train-Val Accuracy')\n",
    "plt.plot(range(1, num_epochs+1), metric_hist['train'], label='train')\n",
    "plt.plot(range(1, num_epochs+1), metric_hist['val'], label='val')\n",
    "plt.ylabel('Accuracy')\n",
    "plt.xlabel('Training Epochs')\n",
    "plt.legend()\n",
    "plt.show()"
   ]
  },
  {
   "cell_type": "markdown",
   "id": "5839b69c-73e9-43e6-a002-043e1210167d",
   "metadata": {},
   "source": [
    "## Define Student Model\n",
    "Now we define the student model to transfer the teacher's knowledge."
   ]
  },
  {
   "cell_type": "code",
   "execution_count": 18,
   "id": "6c2358aa-c680-464c-9330-06e256318a7c",
   "metadata": {},
   "outputs": [],
   "source": [
    "class Student(nn.Module):\n",
    "    def __init__(self):\n",
    "        super().__init__()\n",
    "        self.fc1 = nn.Linear(28*28, 800)\n",
    "        self.bn1 = nn.BatchNorm1d(800)\n",
    "        self.fc2 = nn.Linear(800,800)\n",
    "        self.bn2 = nn.BatchNorm1d(800)\n",
    "        self.fc3 = nn.Linear(800,10)\n",
    "\n",
    "    def forward(self, x):\n",
    "        x = x.view(-1, 28*28)\n",
    "        x = F.relu(self.bn1(self.fc1(x)))\n",
    "        x = F.relu(self.bn2(self.fc2(x)))\n",
    "        x = self.fc3(x)\n",
    "        return x"
   ]
  },
  {
   "cell_type": "code",
   "execution_count": 19,
   "id": "31aa6fd3-56ed-4756-bf91-8bc2cbb05ea1",
   "metadata": {},
   "outputs": [
    {
     "name": "stdout",
     "output_type": "stream",
     "text": [
      "torch.Size([16, 10])\n"
     ]
    }
   ],
   "source": [
    "# check\n",
    "x = torch.randn(16,1,28,28).to(device)\n",
    "student = Student().to(device)\n",
    "output = student(x)\n",
    "print(output.shape)"
   ]
  },
  {
   "cell_type": "code",
   "execution_count": 20,
   "id": "c7154273-a1b5-4c51-9783-383b36da52b6",
   "metadata": {},
   "outputs": [],
   "source": [
    "# weight initialization\n",
    "student.apply(initialize_weights);"
   ]
  },
  {
   "cell_type": "markdown",
   "id": "f6155037-828d-4dca-aad9-36b831d15a14",
   "metadata": {},
   "source": [
    "## Knowledge distillation\n",
    "Now we train the student model with knowledge distillation loss using the soft label of the teacher model."
   ]
  },
  {
   "cell_type": "code",
   "execution_count": 22,
   "id": "05b20b59-209c-4d4a-b103-a0f2f706917f",
   "metadata": {},
   "outputs": [],
   "source": [
    "teacher = Teacher().to(device)\n",
    "# load weight\n",
    "teacher.load_state_dict(torch.load('./models/teacher_weights.pt'))\n",
    "\n",
    "student = Student().to(device)\n",
    "\n",
    "# optimizer\n",
    "opt = optim.Adam(student.parameters())"
   ]
  },
  {
   "cell_type": "markdown",
   "id": "1d37336d-22a4-4eaa-8e78-f77148e23f52",
   "metadata": {},
   "source": [
    "![loss functions](images/loss.jpg)"
   ]
  },
  {
   "cell_type": "code",
   "execution_count": 23,
   "id": "6a4cae5e-968a-45c2-a757-3d40301fffad",
   "metadata": {},
   "outputs": [],
   "source": [
    "#knowledge distillation loss\n",
    "def distillation(y,labels,teacher_scores, T, alpha):\n",
    "    # distillation loss + classification loss\n",
    "    # y : student\n",
    "    # labeks : hard labels\n",
    "    # teacher_scores : soft labels\n",
    "    return nn.KLDivLoss()(F.log_softmax(y/T), F.softmax(teacher_scores/T)) * (T*T * 2.0 + alpha) + F.cross_entropy(y,labels) * (1.-alpha)\n",
    "\n",
    "# val loss\n",
    "loss_func = nn.CrossEntropyLoss()"
   ]
  },
  {
   "cell_type": "code",
   "execution_count": 24,
   "id": "4fc349d2-25de-4c19-bfa5-deae3b224764",
   "metadata": {},
   "outputs": [],
   "source": [
    "def distill_loss_batch(output, target, teacher_output, loss_fn=distillation, opt=opt):\n",
    "    loss_b = loss_fn(output, target, teacher_output, T=20.0, alpha=0.7)\n",
    "    metric_b = metric_batch(output, target)\n",
    "\n",
    "    if opt is not None:\n",
    "        opt.zero_grad()\n",
    "        loss_b.backward()\n",
    "        opt.step()\n",
    "\n",
    "    return loss_b.item(), metric_b"
   ]
  },
  {
   "cell_type": "code",
   "execution_count": 26,
   "id": "616eee26-b0de-4573-a348-3bfdbd48e2da",
   "metadata": {
    "collapsed": true,
    "jupyter": {
     "outputs_hidden": true
    },
    "tags": []
   },
   "outputs": [
    {
     "name": "stderr",
     "output_type": "stream",
     "text": [
      "  0%|                                                                                          | 0/938 [00:00<?, ?it/s]<ipython-input-23-db5fd09c49c0>:7: UserWarning: Implicit dimension choice for log_softmax has been deprecated. Change the call to include dim=X as an argument.\n",
      "  return nn.KLDivLoss()(F.log_softmax(y/T), F.softmax(teacher_scores/T)) * (T*T * 2.0 + alpha) + F.cross_entropy(y,labels) * (1.-alpha)\n",
      "<ipython-input-23-db5fd09c49c0>:7: UserWarning: Implicit dimension choice for softmax has been deprecated. Change the call to include dim=X as an argument.\n",
      "  return nn.KLDivLoss()(F.log_softmax(y/T), F.softmax(teacher_scores/T)) * (T*T * 2.0 + alpha) + F.cross_entropy(y,labels) * (1.-alpha)\n",
      "C:\\anaconda3\\lib\\site-packages\\torch\\nn\\functional.py:2741: UserWarning: reduction: 'mean' divides the total loss by both the batch size and the support size.'batchmean' divides only by the batch size, and aligns with the KL div math definition.'mean' will be changed to behave the same as 'batchmean' in the next major release.\n",
      "  warnings.warn(\n",
      "  1%|▊                                                                                 | 9/938 [00:00<00:19, 46.63it/s]"
     ]
    },
    {
     "name": "stdout",
     "output_type": "stream",
     "text": [
      "Epoch 0/99, current lr= 0.001\n"
     ]
    },
    {
     "name": "stderr",
     "output_type": "stream",
     "text": [
      "100%|████████████████████████████████████████████████████████████████████████████████| 938/938 [00:14<00:00, 63.76it/s]\n",
      "  1%|▌                                                                                 | 6/938 [00:00<00:17, 53.05it/s]"
     ]
    },
    {
     "name": "stdout",
     "output_type": "stream",
     "text": [
      "train loss: 0.032339, val loss: 0.000883, accuracy: 97.07, time: 0.2690 min\n",
      "----------\n",
      "Epoch 1/99, current lr= 0.001\n"
     ]
    },
    {
     "name": "stderr",
     "output_type": "stream",
     "text": [
      "100%|████████████████████████████████████████████████████████████████████████████████| 938/938 [00:14<00:00, 64.73it/s]\n",
      "  1%|▌                                                                                 | 6/938 [00:00<00:15, 59.09it/s]"
     ]
    },
    {
     "name": "stdout",
     "output_type": "stream",
     "text": [
      "train loss: 0.028081, val loss: 0.000720, accuracy: 97.60, time: 0.5342 min\n",
      "----------\n",
      "Epoch 2/99, current lr= 0.001\n"
     ]
    },
    {
     "name": "stderr",
     "output_type": "stream",
     "text": [
      "100%|████████████████████████████████████████████████████████████████████████████████| 938/938 [00:14<00:00, 64.81it/s]\n",
      "  1%|▌                                                                                 | 7/938 [00:00<00:14, 63.21it/s]"
     ]
    },
    {
     "name": "stdout",
     "output_type": "stream",
     "text": [
      "train loss: 0.027511, val loss: 0.000631, accuracy: 97.80, time: 0.8003 min\n",
      "----------\n",
      "Epoch 3/99, current lr= 0.001\n"
     ]
    },
    {
     "name": "stderr",
     "output_type": "stream",
     "text": [
      "100%|████████████████████████████████████████████████████████████████████████████████| 938/938 [00:14<00:00, 66.33it/s]\n",
      "  1%|▌                                                                                 | 7/938 [00:00<00:16, 55.04it/s]"
     ]
    },
    {
     "name": "stdout",
     "output_type": "stream",
     "text": [
      "train loss: 0.027303, val loss: 0.000635, accuracy: 97.75, time: 1.0598 min\n",
      "----------\n",
      "Epoch 4/99, current lr= 0.001\n"
     ]
    },
    {
     "name": "stderr",
     "output_type": "stream",
     "text": [
      "100%|████████████████████████████████████████████████████████████████████████████████| 938/938 [00:14<00:00, 65.05it/s]\n",
      "  1%|▌                                                                                 | 6/938 [00:00<00:16, 57.17it/s]"
     ]
    },
    {
     "name": "stdout",
     "output_type": "stream",
     "text": [
      "train loss: 0.027176, val loss: 0.000569, accuracy: 97.99, time: 1.3281 min\n",
      "----------\n",
      "Epoch 5/99, current lr= 0.001\n"
     ]
    },
    {
     "name": "stderr",
     "output_type": "stream",
     "text": [
      "100%|████████████████████████████████████████████████████████████████████████████████| 938/938 [00:14<00:00, 63.51it/s]\n",
      "  1%|▌                                                                                 | 7/938 [00:00<00:15, 61.47it/s]"
     ]
    },
    {
     "name": "stdout",
     "output_type": "stream",
     "text": [
      "train loss: 0.026948, val loss: 0.000626, accuracy: 97.83, time: 1.5984 min\n",
      "----------\n",
      "Epoch 6/99, current lr= 0.001\n"
     ]
    },
    {
     "name": "stderr",
     "output_type": "stream",
     "text": [
      "100%|████████████████████████████████████████████████████████████████████████████████| 938/938 [00:14<00:00, 65.06it/s]\n",
      "  1%|▌                                                                                 | 6/938 [00:00<00:16, 55.87it/s]"
     ]
    },
    {
     "name": "stdout",
     "output_type": "stream",
     "text": [
      "train loss: 0.026853, val loss: 0.000587, accuracy: 97.99, time: 1.8625 min\n",
      "----------\n",
      "Epoch 7/99, current lr= 0.001\n"
     ]
    },
    {
     "name": "stderr",
     "output_type": "stream",
     "text": [
      "100%|████████████████████████████████████████████████████████████████████████████████| 938/938 [00:14<00:00, 63.69it/s]\n",
      "  1%|█                                                                                | 12/938 [00:00<00:16, 56.52it/s]"
     ]
    },
    {
     "name": "stdout",
     "output_type": "stream",
     "text": [
      "train loss: 0.026792, val loss: 0.000569, accuracy: 97.98, time: 2.1334 min\n",
      "----------\n",
      "Epoch 8/99, current lr= 0.001\n"
     ]
    },
    {
     "name": "stderr",
     "output_type": "stream",
     "text": [
      "100%|████████████████████████████████████████████████████████████████████████████████| 938/938 [00:14<00:00, 64.75it/s]\n",
      "  1%|▍                                                                                 | 5/938 [00:00<00:19, 48.55it/s]"
     ]
    },
    {
     "name": "stdout",
     "output_type": "stream",
     "text": [
      "train loss: 0.026791, val loss: 0.000552, accuracy: 98.00, time: 2.4004 min\n",
      "----------\n",
      "Epoch 9/99, current lr= 0.001\n"
     ]
    },
    {
     "name": "stderr",
     "output_type": "stream",
     "text": [
      "100%|████████████████████████████████████████████████████████████████████████████████| 938/938 [00:16<00:00, 57.92it/s]\n",
      "  1%|▌                                                                                 | 7/938 [00:00<00:16, 57.64it/s]"
     ]
    },
    {
     "name": "stdout",
     "output_type": "stream",
     "text": [
      "train loss: 0.026596, val loss: 0.000550, accuracy: 97.99, time: 2.6994 min\n",
      "----------\n",
      "Epoch 10/99, current lr= 0.001\n"
     ]
    },
    {
     "name": "stderr",
     "output_type": "stream",
     "text": [
      "100%|████████████████████████████████████████████████████████████████████████████████| 938/938 [00:14<00:00, 64.08it/s]\n",
      "  1%|▍                                                                                 | 5/938 [00:00<00:19, 47.60it/s]"
     ]
    },
    {
     "name": "stdout",
     "output_type": "stream",
     "text": [
      "train loss: 0.026606, val loss: 0.000541, accuracy: 98.01, time: 2.9684 min\n",
      "----------\n",
      "Epoch 11/99, current lr= 0.001\n"
     ]
    },
    {
     "name": "stderr",
     "output_type": "stream",
     "text": [
      "100%|████████████████████████████████████████████████████████████████████████████████| 938/938 [00:14<00:00, 63.06it/s]\n",
      "  1%|█                                                                                | 12/938 [00:00<00:16, 55.93it/s]"
     ]
    },
    {
     "name": "stdout",
     "output_type": "stream",
     "text": [
      "train loss: 0.026511, val loss: 0.000520, accuracy: 98.06, time: 3.2428 min\n",
      "----------\n",
      "Epoch 12/99, current lr= 0.001\n"
     ]
    },
    {
     "name": "stderr",
     "output_type": "stream",
     "text": [
      "100%|████████████████████████████████████████████████████████████████████████████████| 938/938 [00:14<00:00, 65.13it/s]\n",
      "  1%|▌                                                                                 | 6/938 [00:00<00:16, 56.03it/s]"
     ]
    },
    {
     "name": "stdout",
     "output_type": "stream",
     "text": [
      "train loss: 0.026378, val loss: 0.000541, accuracy: 98.08, time: 3.5094 min\n",
      "----------\n",
      "Epoch 13/99, current lr= 0.001\n"
     ]
    },
    {
     "name": "stderr",
     "output_type": "stream",
     "text": [
      "100%|████████████████████████████████████████████████████████████████████████████████| 938/938 [00:15<00:00, 61.44it/s]\n",
      "  1%|▌                                                                                 | 6/938 [00:00<00:16, 56.46it/s]"
     ]
    },
    {
     "name": "stdout",
     "output_type": "stream",
     "text": [
      "train loss: 0.026472, val loss: 0.000535, accuracy: 97.95, time: 3.7891 min\n",
      "----------\n",
      "Epoch 14/99, current lr= 0.001\n"
     ]
    },
    {
     "name": "stderr",
     "output_type": "stream",
     "text": [
      "100%|████████████████████████████████████████████████████████████████████████████████| 938/938 [00:14<00:00, 62.84it/s]\n",
      "  1%|▋                                                                                 | 8/938 [00:00<00:13, 69.37it/s]"
     ]
    },
    {
     "name": "stdout",
     "output_type": "stream",
     "text": [
      "train loss: 0.026493, val loss: 0.000564, accuracy: 97.95, time: 4.0623 min\n",
      "----------\n",
      "Epoch 15/99, current lr= 0.001\n"
     ]
    },
    {
     "name": "stderr",
     "output_type": "stream",
     "text": [
      "100%|████████████████████████████████████████████████████████████████████████████████| 938/938 [00:13<00:00, 67.80it/s]\n",
      "  1%|▌                                                                                 | 6/938 [00:00<00:17, 52.86it/s]"
     ]
    },
    {
     "name": "stdout",
     "output_type": "stream",
     "text": [
      "train loss: 0.026424, val loss: 0.000509, accuracy: 98.12, time: 4.3169 min\n",
      "----------\n",
      "Epoch 16/99, current lr= 0.001\n"
     ]
    },
    {
     "name": "stderr",
     "output_type": "stream",
     "text": [
      "100%|████████████████████████████████████████████████████████████████████████████████| 938/938 [00:13<00:00, 67.56it/s]\n",
      "  1%|▌                                                                                 | 6/938 [00:00<00:18, 50.36it/s]"
     ]
    },
    {
     "name": "stdout",
     "output_type": "stream",
     "text": [
      "train loss: 0.026337, val loss: 0.000546, accuracy: 98.12, time: 4.5724 min\n",
      "----------\n",
      "Epoch 17/99, current lr= 0.001\n"
     ]
    },
    {
     "name": "stderr",
     "output_type": "stream",
     "text": [
      "100%|████████████████████████████████████████████████████████████████████████████████| 938/938 [00:13<00:00, 67.64it/s]\n",
      "  1%|▌                                                                                 | 6/938 [00:00<00:17, 54.57it/s]"
     ]
    },
    {
     "name": "stdout",
     "output_type": "stream",
     "text": [
      "train loss: 0.026386, val loss: 0.000554, accuracy: 98.17, time: 4.8291 min\n",
      "----------\n",
      "Epoch 18/99, current lr= 0.001\n"
     ]
    },
    {
     "name": "stderr",
     "output_type": "stream",
     "text": [
      "100%|████████████████████████████████████████████████████████████████████████████████| 938/938 [00:15<00:00, 62.42it/s]\n",
      "  1%|▊                                                                                | 10/938 [00:00<00:19, 48.52it/s]"
     ]
    },
    {
     "name": "stdout",
     "output_type": "stream",
     "text": [
      "train loss: 0.026260, val loss: 0.000510, accuracy: 98.24, time: 5.1049 min\n",
      "----------\n",
      "Epoch 19/99, current lr= 0.001\n"
     ]
    },
    {
     "name": "stderr",
     "output_type": "stream",
     "text": [
      "100%|████████████████████████████████████████████████████████████████████████████████| 938/938 [00:14<00:00, 63.42it/s]\n",
      "  1%|▌                                                                                 | 7/938 [00:00<00:15, 58.22it/s]"
     ]
    },
    {
     "name": "stdout",
     "output_type": "stream",
     "text": [
      "train loss: 0.026169, val loss: 0.000544, accuracy: 98.18, time: 5.3755 min\n",
      "----------\n",
      "Epoch 20/99, current lr= 0.001\n"
     ]
    },
    {
     "name": "stderr",
     "output_type": "stream",
     "text": [
      "100%|████████████████████████████████████████████████████████████████████████████████| 938/938 [00:15<00:00, 61.10it/s]\n",
      "  1%|▊                                                                                | 10/938 [00:00<00:19, 48.73it/s]"
     ]
    },
    {
     "name": "stdout",
     "output_type": "stream",
     "text": [
      "train loss: 0.026254, val loss: 0.000496, accuracy: 98.19, time: 5.6559 min\n",
      "----------\n",
      "Epoch 21/99, current lr= 0.001\n"
     ]
    },
    {
     "name": "stderr",
     "output_type": "stream",
     "text": [
      "100%|████████████████████████████████████████████████████████████████████████████████| 938/938 [00:14<00:00, 66.63it/s]\n",
      "  1%|▌                                                                                 | 7/938 [00:00<00:15, 61.03it/s]"
     ]
    },
    {
     "name": "stdout",
     "output_type": "stream",
     "text": [
      "train loss: 0.026231, val loss: 0.000514, accuracy: 98.21, time: 5.9154 min\n",
      "----------\n",
      "Epoch 22/99, current lr= 0.001\n"
     ]
    },
    {
     "name": "stderr",
     "output_type": "stream",
     "text": [
      "100%|████████████████████████████████████████████████████████████████████████████████| 938/938 [00:14<00:00, 65.29it/s]\n",
      "  1%|▌                                                                                 | 6/938 [00:00<00:17, 52.63it/s]"
     ]
    },
    {
     "name": "stdout",
     "output_type": "stream",
     "text": [
      "train loss: 0.026232, val loss: 0.000539, accuracy: 98.20, time: 6.1805 min\n",
      "----------\n",
      "Epoch 23/99, current lr= 0.001\n"
     ]
    },
    {
     "name": "stderr",
     "output_type": "stream",
     "text": [
      "100%|████████████████████████████████████████████████████████████████████████████████| 938/938 [00:14<00:00, 64.03it/s]\n",
      "  1%|▍                                                                                 | 5/938 [00:00<00:19, 48.97it/s]"
     ]
    },
    {
     "name": "stdout",
     "output_type": "stream",
     "text": [
      "train loss: 0.026114, val loss: 0.000514, accuracy: 98.22, time: 6.4486 min\n",
      "----------\n",
      "Epoch 24/99, current lr= 0.001\n"
     ]
    },
    {
     "name": "stderr",
     "output_type": "stream",
     "text": [
      "100%|████████████████████████████████████████████████████████████████████████████████| 938/938 [00:14<00:00, 63.87it/s]\n",
      "  1%|▌                                                                                 | 6/938 [00:00<00:18, 51.69it/s]"
     ]
    },
    {
     "name": "stdout",
     "output_type": "stream",
     "text": [
      "train loss: 0.026227, val loss: 0.000466, accuracy: 98.34, time: 6.7187 min\n",
      "----------\n",
      "Epoch 25/99, current lr= 0.001\n"
     ]
    },
    {
     "name": "stderr",
     "output_type": "stream",
     "text": [
      "100%|████████████████████████████████████████████████████████████████████████████████| 938/938 [00:14<00:00, 64.53it/s]\n",
      "  1%|█                                                                                | 12/938 [00:00<00:15, 57.95it/s]"
     ]
    },
    {
     "name": "stdout",
     "output_type": "stream",
     "text": [
      "train loss: 0.026115, val loss: 0.000469, accuracy: 98.24, time: 6.9875 min\n",
      "----------\n",
      "Epoch 26/99, current lr= 0.001\n"
     ]
    },
    {
     "name": "stderr",
     "output_type": "stream",
     "text": [
      "100%|████████████████████████████████████████████████████████████████████████████████| 938/938 [00:14<00:00, 65.81it/s]\n",
      "  1%|▍                                                                                 | 5/938 [00:00<00:19, 47.19it/s]"
     ]
    },
    {
     "name": "stdout",
     "output_type": "stream",
     "text": [
      "train loss: 0.026189, val loss: 0.000479, accuracy: 98.24, time: 7.2498 min\n",
      "----------\n",
      "Epoch 27/99, current lr= 0.001\n"
     ]
    },
    {
     "name": "stderr",
     "output_type": "stream",
     "text": [
      "100%|████████████████████████████████████████████████████████████████████████████████| 938/938 [00:14<00:00, 63.08it/s]\n",
      "  1%|▌                                                                                 | 6/938 [00:00<00:16, 55.05it/s]"
     ]
    },
    {
     "name": "stdout",
     "output_type": "stream",
     "text": [
      "train loss: 0.026043, val loss: 0.000508, accuracy: 98.29, time: 7.5226 min\n",
      "----------\n",
      "Epoch 28/99, current lr= 0.001\n"
     ]
    },
    {
     "name": "stderr",
     "output_type": "stream",
     "text": [
      "100%|████████████████████████████████████████████████████████████████████████████████| 938/938 [00:14<00:00, 65.45it/s]\n",
      "  1%|▌                                                                                 | 6/938 [00:00<00:16, 55.08it/s]"
     ]
    },
    {
     "name": "stdout",
     "output_type": "stream",
     "text": [
      "train loss: 0.026048, val loss: 0.000485, accuracy: 98.22, time: 7.7857 min\n",
      "----------\n",
      "Epoch 29/99, current lr= 0.001\n"
     ]
    },
    {
     "name": "stderr",
     "output_type": "stream",
     "text": [
      "100%|████████████████████████████████████████████████████████████████████████████████| 938/938 [00:14<00:00, 64.83it/s]\n",
      "  1%|▌                                                                                 | 7/938 [00:00<00:14, 63.64it/s]"
     ]
    },
    {
     "name": "stdout",
     "output_type": "stream",
     "text": [
      "train loss: 0.026018, val loss: 0.000484, accuracy: 98.35, time: 8.0520 min\n",
      "----------\n",
      "Epoch 30/99, current lr= 0.001\n"
     ]
    },
    {
     "name": "stderr",
     "output_type": "stream",
     "text": [
      "100%|████████████████████████████████████████████████████████████████████████████████| 938/938 [00:14<00:00, 63.87it/s]\n",
      "  1%|▌                                                                                 | 6/938 [00:00<00:18, 50.40it/s]"
     ]
    },
    {
     "name": "stdout",
     "output_type": "stream",
     "text": [
      "train loss: 0.025975, val loss: 0.000472, accuracy: 98.29, time: 8.3215 min\n",
      "----------\n",
      "Epoch 31/99, current lr= 0.001\n"
     ]
    },
    {
     "name": "stderr",
     "output_type": "stream",
     "text": [
      "100%|████████████████████████████████████████████████████████████████████████████████| 938/938 [00:13<00:00, 68.08it/s]\n",
      "  1%|▌                                                                                 | 6/938 [00:00<00:15, 58.25it/s]"
     ]
    },
    {
     "name": "stdout",
     "output_type": "stream",
     "text": [
      "train loss: 0.026135, val loss: 0.000480, accuracy: 98.25, time: 8.5751 min\n",
      "----------\n",
      "Epoch 32/99, current lr= 0.001\n"
     ]
    },
    {
     "name": "stderr",
     "output_type": "stream",
     "text": [
      "100%|████████████████████████████████████████████████████████████████████████████████| 938/938 [00:13<00:00, 68.02it/s]\n",
      "  1%|█                                                                                | 12/938 [00:00<00:16, 57.68it/s]"
     ]
    },
    {
     "name": "stdout",
     "output_type": "stream",
     "text": [
      "train loss: 0.025925, val loss: 0.000453, accuracy: 98.39, time: 8.8297 min\n",
      "----------\n",
      "Epoch 33/99, current lr= 0.001\n"
     ]
    },
    {
     "name": "stderr",
     "output_type": "stream",
     "text": [
      "100%|████████████████████████████████████████████████████████████████████████████████| 938/938 [00:13<00:00, 68.15it/s]\n",
      "  1%|█                                                                                | 12/938 [00:00<00:16, 57.08it/s]"
     ]
    },
    {
     "name": "stdout",
     "output_type": "stream",
     "text": [
      "train loss: 0.026056, val loss: 0.000476, accuracy: 98.35, time: 9.0830 min\n",
      "----------\n",
      "Epoch 34/99, current lr= 0.001\n"
     ]
    },
    {
     "name": "stderr",
     "output_type": "stream",
     "text": [
      "100%|████████████████████████████████████████████████████████████████████████████████| 938/938 [00:14<00:00, 66.69it/s]\n",
      "  1%|▌                                                                                 | 7/938 [00:00<00:14, 66.04it/s]"
     ]
    },
    {
     "name": "stdout",
     "output_type": "stream",
     "text": [
      "train loss: 0.026086, val loss: 0.000495, accuracy: 98.21, time: 9.3420 min\n",
      "----------\n",
      "Epoch 35/99, current lr= 0.001\n"
     ]
    },
    {
     "name": "stderr",
     "output_type": "stream",
     "text": [
      "100%|████████████████████████████████████████████████████████████████████████████████| 938/938 [00:13<00:00, 68.23it/s]\n",
      "  1%|▌                                                                                 | 7/938 [00:00<00:15, 61.95it/s]"
     ]
    },
    {
     "name": "stdout",
     "output_type": "stream",
     "text": [
      "train loss: 0.026076, val loss: 0.000454, accuracy: 98.25, time: 9.5953 min\n",
      "----------\n",
      "Epoch 36/99, current lr= 0.001\n"
     ]
    },
    {
     "name": "stderr",
     "output_type": "stream",
     "text": [
      "100%|████████████████████████████████████████████████████████████████████████████████| 938/938 [00:14<00:00, 63.16it/s]\n",
      "  1%|▌                                                                                 | 7/938 [00:00<00:15, 59.83it/s]"
     ]
    },
    {
     "name": "stdout",
     "output_type": "stream",
     "text": [
      "train loss: 0.025991, val loss: 0.000477, accuracy: 98.36, time: 9.8676 min\n",
      "----------\n",
      "Epoch 37/99, current lr= 0.001\n"
     ]
    },
    {
     "name": "stderr",
     "output_type": "stream",
     "text": [
      "100%|████████████████████████████████████████████████████████████████████████████████| 938/938 [00:14<00:00, 66.76it/s]\n",
      "  1%|▌                                                                                 | 6/938 [00:00<00:16, 57.19it/s]"
     ]
    },
    {
     "name": "stdout",
     "output_type": "stream",
     "text": [
      "train loss: 0.025907, val loss: 0.000476, accuracy: 98.25, time: 10.1260 min\n",
      "----------\n",
      "Epoch 38/99, current lr= 0.001\n"
     ]
    },
    {
     "name": "stderr",
     "output_type": "stream",
     "text": [
      "100%|████████████████████████████████████████████████████████████████████████████████| 938/938 [00:14<00:00, 65.62it/s]\n",
      "  1%|▌                                                                                 | 7/938 [00:00<00:15, 60.72it/s]"
     ]
    },
    {
     "name": "stdout",
     "output_type": "stream",
     "text": [
      "train loss: 0.025849, val loss: 0.000460, accuracy: 98.29, time: 10.3879 min\n",
      "----------\n",
      "Epoch 39/99, current lr= 0.001\n"
     ]
    },
    {
     "name": "stderr",
     "output_type": "stream",
     "text": [
      "100%|████████████████████████████████████████████████████████████████████████████████| 938/938 [00:13<00:00, 68.18it/s]\n",
      "  1%|▌                                                                                 | 6/938 [00:00<00:16, 57.05it/s]"
     ]
    },
    {
     "name": "stdout",
     "output_type": "stream",
     "text": [
      "train loss: 0.025946, val loss: 0.000469, accuracy: 98.36, time: 10.6418 min\n",
      "----------\n",
      "Epoch 40/99, current lr= 0.001\n"
     ]
    },
    {
     "name": "stderr",
     "output_type": "stream",
     "text": [
      "100%|████████████████████████████████████████████████████████████████████████████████| 938/938 [00:13<00:00, 69.09it/s]\n",
      "  1%|▌                                                                                 | 7/938 [00:00<00:15, 61.35it/s]"
     ]
    },
    {
     "name": "stdout",
     "output_type": "stream",
     "text": [
      "train loss: 0.025981, val loss: 0.000459, accuracy: 98.32, time: 10.8917 min\n",
      "----------\n",
      "Epoch 41/99, current lr= 0.001\n"
     ]
    },
    {
     "name": "stderr",
     "output_type": "stream",
     "text": [
      "100%|████████████████████████████████████████████████████████████████████████████████| 938/938 [00:13<00:00, 68.51it/s]\n",
      "  1%|▌                                                                                 | 7/938 [00:00<00:14, 62.69it/s]"
     ]
    },
    {
     "name": "stdout",
     "output_type": "stream",
     "text": [
      "train loss: 0.025976, val loss: 0.000482, accuracy: 98.24, time: 11.1437 min\n",
      "----------\n",
      "Epoch 42/99, current lr= 0.001\n"
     ]
    },
    {
     "name": "stderr",
     "output_type": "stream",
     "text": [
      "100%|████████████████████████████████████████████████████████████████████████████████| 938/938 [00:13<00:00, 68.88it/s]\n",
      "  1%|▌                                                                                 | 7/938 [00:00<00:14, 62.63it/s]"
     ]
    },
    {
     "name": "stdout",
     "output_type": "stream",
     "text": [
      "train loss: 0.026089, val loss: 0.000471, accuracy: 98.28, time: 11.3945 min\n",
      "----------\n",
      "Epoch 43/99, current lr= 0.001\n"
     ]
    },
    {
     "name": "stderr",
     "output_type": "stream",
     "text": [
      "100%|████████████████████████████████████████████████████████████████████████████████| 938/938 [00:13<00:00, 69.07it/s]\n",
      "  1%|▌                                                                                 | 6/938 [00:00<00:17, 52.96it/s]"
     ]
    },
    {
     "name": "stdout",
     "output_type": "stream",
     "text": [
      "train loss: 0.026007, val loss: 0.000493, accuracy: 98.22, time: 11.6448 min\n",
      "----------\n",
      "Epoch 44/99, current lr= 0.001\n"
     ]
    },
    {
     "name": "stderr",
     "output_type": "stream",
     "text": [
      "100%|████████████████████████████████████████████████████████████████████████████████| 938/938 [00:14<00:00, 65.66it/s]\n",
      "  1%|█                                                                                | 12/938 [00:00<00:16, 56.95it/s]"
     ]
    },
    {
     "name": "stdout",
     "output_type": "stream",
     "text": [
      "train loss: 0.025859, val loss: 0.000467, accuracy: 98.27, time: 11.9081 min\n",
      "----------\n",
      "Epoch 45/99, current lr= 0.001\n"
     ]
    },
    {
     "name": "stderr",
     "output_type": "stream",
     "text": [
      "100%|████████████████████████████████████████████████████████████████████████████████| 938/938 [00:15<00:00, 60.20it/s]\n",
      "  1%|▌                                                                                 | 6/938 [00:00<00:17, 52.16it/s]"
     ]
    },
    {
     "name": "stdout",
     "output_type": "stream",
     "text": [
      "train loss: 0.025770, val loss: 0.000485, accuracy: 98.23, time: 12.1931 min\n",
      "----------\n",
      "Epoch 46/99, current lr= 0.001\n"
     ]
    },
    {
     "name": "stderr",
     "output_type": "stream",
     "text": [
      "100%|████████████████████████████████████████████████████████████████████████████████| 938/938 [00:15<00:00, 61.86it/s]\n",
      "  1%|▌                                                                                 | 6/938 [00:00<00:16, 55.07it/s]"
     ]
    },
    {
     "name": "stdout",
     "output_type": "stream",
     "text": [
      "train loss: 0.025943, val loss: 0.000478, accuracy: 98.26, time: 12.4709 min\n",
      "----------\n",
      "Epoch 47/99, current lr= 0.001\n"
     ]
    },
    {
     "name": "stderr",
     "output_type": "stream",
     "text": [
      "100%|████████████████████████████████████████████████████████████████████████████████| 938/938 [00:15<00:00, 61.21it/s]\n",
      "  1%|▌                                                                                 | 6/938 [00:00<00:18, 51.28it/s]"
     ]
    },
    {
     "name": "stdout",
     "output_type": "stream",
     "text": [
      "train loss: 0.025807, val loss: 0.000451, accuracy: 98.32, time: 12.7519 min\n",
      "----------\n",
      "Epoch 48/99, current lr= 0.001\n"
     ]
    },
    {
     "name": "stderr",
     "output_type": "stream",
     "text": [
      "100%|████████████████████████████████████████████████████████████████████████████████| 938/938 [00:14<00:00, 63.93it/s]\n",
      "  1%|▍                                                                                 | 5/938 [00:00<00:19, 47.58it/s]"
     ]
    },
    {
     "name": "stdout",
     "output_type": "stream",
     "text": [
      "train loss: 0.025648, val loss: 0.000455, accuracy: 98.26, time: 13.0215 min\n",
      "----------\n",
      "Epoch 49/99, current lr= 0.001\n"
     ]
    },
    {
     "name": "stderr",
     "output_type": "stream",
     "text": [
      "100%|████████████████████████████████████████████████████████████████████████████████| 938/938 [00:15<00:00, 59.83it/s]\n",
      "  1%|▍                                                                                 | 5/938 [00:00<00:19, 47.96it/s]"
     ]
    },
    {
     "name": "stdout",
     "output_type": "stream",
     "text": [
      "train loss: 0.025976, val loss: 0.000476, accuracy: 98.29, time: 13.3104 min\n",
      "----------\n",
      "Epoch 50/99, current lr= 0.001\n"
     ]
    },
    {
     "name": "stderr",
     "output_type": "stream",
     "text": [
      "100%|████████████████████████████████████████████████████████████████████████████████| 938/938 [00:14<00:00, 65.52it/s]\n",
      "  1%|▌                                                                                 | 7/938 [00:00<00:14, 65.46it/s]"
     ]
    },
    {
     "name": "stdout",
     "output_type": "stream",
     "text": [
      "train loss: 0.025976, val loss: 0.000466, accuracy: 98.26, time: 13.5731 min\n",
      "----------\n",
      "Epoch 51/99, current lr= 0.001\n"
     ]
    },
    {
     "name": "stderr",
     "output_type": "stream",
     "text": [
      "100%|████████████████████████████████████████████████████████████████████████████████| 938/938 [00:14<00:00, 65.76it/s]\n",
      "  1%|▌                                                                                 | 6/938 [00:00<00:16, 57.69it/s]"
     ]
    },
    {
     "name": "stdout",
     "output_type": "stream",
     "text": [
      "train loss: 0.025748, val loss: 0.000467, accuracy: 98.30, time: 13.8359 min\n",
      "----------\n",
      "Epoch 52/99, current lr= 0.001\n"
     ]
    },
    {
     "name": "stderr",
     "output_type": "stream",
     "text": [
      "100%|████████████████████████████████████████████████████████████████████████████████| 938/938 [00:14<00:00, 63.82it/s]\n",
      "  1%|▌                                                                                 | 7/938 [00:00<00:13, 67.31it/s]"
     ]
    },
    {
     "name": "stdout",
     "output_type": "stream",
     "text": [
      "train loss: 0.025929, val loss: 0.000456, accuracy: 98.27, time: 14.1052 min\n",
      "----------\n",
      "Epoch 53/99, current lr= 0.001\n"
     ]
    },
    {
     "name": "stderr",
     "output_type": "stream",
     "text": [
      "100%|████████████████████████████████████████████████████████████████████████████████| 938/938 [00:14<00:00, 66.07it/s]\n",
      "  1%|▌                                                                                 | 6/938 [00:00<00:17, 54.58it/s]"
     ]
    },
    {
     "name": "stdout",
     "output_type": "stream",
     "text": [
      "train loss: 0.025665, val loss: 0.000469, accuracy: 98.37, time: 14.3663 min\n",
      "----------\n",
      "Epoch 54/99, current lr= 0.001\n"
     ]
    },
    {
     "name": "stderr",
     "output_type": "stream",
     "text": [
      "100%|████████████████████████████████████████████████████████████████████████████████| 938/938 [00:14<00:00, 64.77it/s]\n",
      "  1%|▌                                                                                 | 7/938 [00:00<00:15, 61.40it/s]"
     ]
    },
    {
     "name": "stdout",
     "output_type": "stream",
     "text": [
      "train loss: 0.025820, val loss: 0.000465, accuracy: 98.34, time: 14.6335 min\n",
      "----------\n",
      "Epoch 55/99, current lr= 0.001\n"
     ]
    },
    {
     "name": "stderr",
     "output_type": "stream",
     "text": [
      "100%|████████████████████████████████████████████████████████████████████████████████| 938/938 [00:14<00:00, 64.97it/s]\n",
      "  1%|▌                                                                                 | 7/938 [00:00<00:15, 61.40it/s]"
     ]
    },
    {
     "name": "stdout",
     "output_type": "stream",
     "text": [
      "train loss: 0.025826, val loss: 0.000486, accuracy: 98.32, time: 14.8990 min\n",
      "----------\n",
      "Epoch 56/99, current lr= 0.001\n"
     ]
    },
    {
     "name": "stderr",
     "output_type": "stream",
     "text": [
      "100%|████████████████████████████████████████████████████████████████████████████████| 938/938 [00:14<00:00, 64.16it/s]\n",
      "  1%|▍                                                                                 | 5/938 [00:00<00:19, 46.75it/s]"
     ]
    },
    {
     "name": "stdout",
     "output_type": "stream",
     "text": [
      "train loss: 0.025734, val loss: 0.000457, accuracy: 98.30, time: 15.1673 min\n",
      "----------\n",
      "Epoch 57/99, current lr= 0.001\n"
     ]
    },
    {
     "name": "stderr",
     "output_type": "stream",
     "text": [
      "100%|████████████████████████████████████████████████████████████████████████████████| 938/938 [00:14<00:00, 65.92it/s]\n",
      "  1%|▍                                                                                 | 5/938 [00:00<00:19, 48.54it/s]"
     ]
    },
    {
     "name": "stdout",
     "output_type": "stream",
     "text": [
      "train loss: 0.025893, val loss: 0.000457, accuracy: 98.34, time: 15.4295 min\n",
      "----------\n",
      "Epoch 58/99, current lr= 0.001\n"
     ]
    },
    {
     "name": "stderr",
     "output_type": "stream",
     "text": [
      "100%|████████████████████████████████████████████████████████████████████████████████| 938/938 [00:15<00:00, 61.24it/s]\n",
      "  1%|▌                                                                                 | 6/938 [00:00<00:17, 54.55it/s]"
     ]
    },
    {
     "name": "stdout",
     "output_type": "stream",
     "text": [
      "train loss: 0.025871, val loss: 0.000469, accuracy: 98.28, time: 15.7102 min\n",
      "----------\n",
      "Epoch 59/99, current lr= 0.001\n"
     ]
    },
    {
     "name": "stderr",
     "output_type": "stream",
     "text": [
      "100%|████████████████████████████████████████████████████████████████████████████████| 938/938 [00:13<00:00, 67.73it/s]\n",
      "  1%|▌                                                                                 | 7/938 [00:00<00:15, 60.87it/s]"
     ]
    },
    {
     "name": "stdout",
     "output_type": "stream",
     "text": [
      "train loss: 0.025713, val loss: 0.000452, accuracy: 98.35, time: 15.9657 min\n",
      "----------\n",
      "Epoch 60/99, current lr= 0.001\n"
     ]
    },
    {
     "name": "stderr",
     "output_type": "stream",
     "text": [
      "100%|████████████████████████████████████████████████████████████████████████████████| 938/938 [00:14<00:00, 66.53it/s]\n",
      "  1%|▌                                                                                 | 6/938 [00:00<00:15, 58.26it/s]"
     ]
    },
    {
     "name": "stdout",
     "output_type": "stream",
     "text": [
      "train loss: 0.025752, val loss: 0.000476, accuracy: 98.27, time: 16.2252 min\n",
      "----------\n",
      "Epoch 61/99, current lr= 0.001\n"
     ]
    },
    {
     "name": "stderr",
     "output_type": "stream",
     "text": [
      "100%|████████████████████████████████████████████████████████████████████████████████| 938/938 [00:14<00:00, 65.34it/s]\n",
      "  1%|▍                                                                                 | 5/938 [00:00<00:19, 47.56it/s]"
     ]
    },
    {
     "name": "stdout",
     "output_type": "stream",
     "text": [
      "train loss: 0.025698, val loss: 0.000448, accuracy: 98.29, time: 16.4893 min\n",
      "----------\n",
      "Epoch 62/99, current lr= 0.001\n"
     ]
    },
    {
     "name": "stderr",
     "output_type": "stream",
     "text": [
      "100%|████████████████████████████████████████████████████████████████████████████████| 938/938 [00:15<00:00, 62.33it/s]\n",
      "  1%|▌                                                                                 | 6/938 [00:00<00:17, 53.57it/s]"
     ]
    },
    {
     "name": "stdout",
     "output_type": "stream",
     "text": [
      "train loss: 0.025909, val loss: 0.000458, accuracy: 98.31, time: 16.7653 min\n",
      "----------\n",
      "Epoch 63/99, current lr= 0.001\n"
     ]
    },
    {
     "name": "stderr",
     "output_type": "stream",
     "text": [
      "100%|████████████████████████████████████████████████████████████████████████████████| 938/938 [00:15<00:00, 61.21it/s]\n",
      "  1%|▌                                                                                 | 6/938 [00:00<00:17, 54.05it/s]"
     ]
    },
    {
     "name": "stdout",
     "output_type": "stream",
     "text": [
      "train loss: 0.025779, val loss: 0.000466, accuracy: 98.27, time: 17.0467 min\n",
      "----------\n",
      "Epoch 64/99, current lr= 0.001\n"
     ]
    },
    {
     "name": "stderr",
     "output_type": "stream",
     "text": [
      "100%|████████████████████████████████████████████████████████████████████████████████| 938/938 [00:14<00:00, 63.13it/s]\n",
      "  1%|▌                                                                                 | 6/938 [00:00<00:16, 55.37it/s]"
     ]
    },
    {
     "name": "stdout",
     "output_type": "stream",
     "text": [
      "train loss: 0.025650, val loss: 0.000464, accuracy: 98.36, time: 17.3195 min\n",
      "----------\n",
      "Epoch 65/99, current lr= 0.001\n"
     ]
    },
    {
     "name": "stderr",
     "output_type": "stream",
     "text": [
      "100%|████████████████████████████████████████████████████████████████████████████████| 938/938 [00:14<00:00, 62.81it/s]\n",
      "  1%|▌                                                                                 | 7/938 [00:00<00:15, 59.32it/s]"
     ]
    },
    {
     "name": "stdout",
     "output_type": "stream",
     "text": [
      "train loss: 0.025646, val loss: 0.000461, accuracy: 98.35, time: 17.5945 min\n",
      "----------\n",
      "Epoch 66/99, current lr= 0.001\n"
     ]
    },
    {
     "name": "stderr",
     "output_type": "stream",
     "text": [
      "100%|████████████████████████████████████████████████████████████████████████████████| 938/938 [00:14<00:00, 63.46it/s]\n",
      "  1%|▋                                                                                 | 8/938 [00:00<00:24, 38.44it/s]"
     ]
    },
    {
     "name": "stdout",
     "output_type": "stream",
     "text": [
      "train loss: 0.025821, val loss: 0.000459, accuracy: 98.34, time: 17.8682 min\n",
      "----------\n",
      "Epoch 67/99, current lr= 0.001\n"
     ]
    },
    {
     "name": "stderr",
     "output_type": "stream",
     "text": [
      "100%|████████████████████████████████████████████████████████████████████████████████| 938/938 [00:15<00:00, 61.20it/s]\n",
      "  1%|█                                                                                | 12/938 [00:00<00:16, 55.59it/s]"
     ]
    },
    {
     "name": "stdout",
     "output_type": "stream",
     "text": [
      "train loss: 0.025583, val loss: 0.000441, accuracy: 98.36, time: 18.1482 min\n",
      "----------\n",
      "Epoch 68/99, current lr= 0.001\n"
     ]
    },
    {
     "name": "stderr",
     "output_type": "stream",
     "text": [
      "100%|████████████████████████████████████████████████████████████████████████████████| 938/938 [00:14<00:00, 66.58it/s]\n",
      "  1%|▌                                                                                 | 6/938 [00:00<00:17, 52.63it/s]"
     ]
    },
    {
     "name": "stdout",
     "output_type": "stream",
     "text": [
      "train loss: 0.025807, val loss: 0.000468, accuracy: 98.35, time: 18.4076 min\n",
      "----------\n",
      "Epoch 69/99, current lr= 0.001\n"
     ]
    },
    {
     "name": "stderr",
     "output_type": "stream",
     "text": [
      "100%|████████████████████████████████████████████████████████████████████████████████| 938/938 [00:14<00:00, 63.06it/s]\n",
      "  1%|▌                                                                                 | 7/938 [00:00<00:15, 58.82it/s]"
     ]
    },
    {
     "name": "stdout",
     "output_type": "stream",
     "text": [
      "train loss: 0.025821, val loss: 0.000478, accuracy: 98.37, time: 18.6807 min\n",
      "----------\n",
      "Epoch 70/99, current lr= 0.001\n"
     ]
    },
    {
     "name": "stderr",
     "output_type": "stream",
     "text": [
      "100%|████████████████████████████████████████████████████████████████████████████████| 938/938 [00:14<00:00, 66.29it/s]\n",
      "  1%|▌                                                                                 | 6/938 [00:00<00:17, 52.19it/s]"
     ]
    },
    {
     "name": "stdout",
     "output_type": "stream",
     "text": [
      "train loss: 0.025650, val loss: 0.000453, accuracy: 98.32, time: 18.9424 min\n",
      "----------\n",
      "Epoch 71/99, current lr= 0.001\n"
     ]
    },
    {
     "name": "stderr",
     "output_type": "stream",
     "text": [
      "100%|████████████████████████████████████████████████████████████████████████████████| 938/938 [00:14<00:00, 65.13it/s]\n",
      "  1%|▍                                                                                 | 5/938 [00:00<00:18, 49.48it/s]"
     ]
    },
    {
     "name": "stdout",
     "output_type": "stream",
     "text": [
      "train loss: 0.025785, val loss: 0.000579, accuracy: 98.38, time: 19.2072 min\n",
      "----------\n",
      "Epoch 72/99, current lr= 0.001\n"
     ]
    },
    {
     "name": "stderr",
     "output_type": "stream",
     "text": [
      "100%|████████████████████████████████████████████████████████████████████████████████| 938/938 [00:14<00:00, 63.95it/s]\n",
      "  1%|█                                                                                | 12/938 [00:00<00:16, 54.59it/s]"
     ]
    },
    {
     "name": "stdout",
     "output_type": "stream",
     "text": [
      "train loss: 0.025650, val loss: 0.000467, accuracy: 98.28, time: 19.4760 min\n",
      "----------\n",
      "Epoch 73/99, current lr= 0.001\n"
     ]
    },
    {
     "name": "stderr",
     "output_type": "stream",
     "text": [
      "100%|████████████████████████████████████████████████████████████████████████████████| 938/938 [00:14<00:00, 66.63it/s]\n",
      "  1%|▌                                                                                 | 6/938 [00:00<00:17, 54.54it/s]"
     ]
    },
    {
     "name": "stdout",
     "output_type": "stream",
     "text": [
      "train loss: 0.025752, val loss: 0.000470, accuracy: 98.26, time: 19.7356 min\n",
      "----------\n",
      "Epoch 74/99, current lr= 0.001\n"
     ]
    },
    {
     "name": "stderr",
     "output_type": "stream",
     "text": [
      "100%|████████████████████████████████████████████████████████████████████████████████| 938/938 [00:14<00:00, 65.38it/s]\n",
      "  1%|▌                                                                                 | 6/938 [00:00<00:15, 59.69it/s]"
     ]
    },
    {
     "name": "stdout",
     "output_type": "stream",
     "text": [
      "train loss: 0.025699, val loss: 0.000461, accuracy: 98.27, time: 20.0000 min\n",
      "----------\n",
      "Epoch 75/99, current lr= 0.001\n"
     ]
    },
    {
     "name": "stderr",
     "output_type": "stream",
     "text": [
      "100%|████████████████████████████████████████████████████████████████████████████████| 938/938 [00:14<00:00, 63.67it/s]\n",
      "  1%|▌                                                                                 | 6/938 [00:00<00:17, 54.06it/s]"
     ]
    },
    {
     "name": "stdout",
     "output_type": "stream",
     "text": [
      "train loss: 0.025697, val loss: 0.000469, accuracy: 98.38, time: 20.2718 min\n",
      "----------\n",
      "Epoch 76/99, current lr= 0.001\n"
     ]
    },
    {
     "name": "stderr",
     "output_type": "stream",
     "text": [
      "100%|████████████████████████████████████████████████████████████████████████████████| 938/938 [00:14<00:00, 64.69it/s]\n",
      "  1%|▌                                                                                 | 6/938 [00:00<00:15, 58.82it/s]"
     ]
    },
    {
     "name": "stdout",
     "output_type": "stream",
     "text": [
      "train loss: 0.025617, val loss: 0.000453, accuracy: 98.33, time: 20.5378 min\n",
      "----------\n",
      "Epoch 77/99, current lr= 0.001\n"
     ]
    },
    {
     "name": "stderr",
     "output_type": "stream",
     "text": [
      "100%|████████████████████████████████████████████████████████████████████████████████| 938/938 [00:14<00:00, 62.60it/s]\n",
      "  1%|▌                                                                                 | 6/938 [00:00<00:17, 53.10it/s]"
     ]
    },
    {
     "name": "stdout",
     "output_type": "stream",
     "text": [
      "train loss: 0.025789, val loss: 0.000456, accuracy: 98.33, time: 20.8133 min\n",
      "----------\n",
      "Epoch 78/99, current lr= 0.001\n"
     ]
    },
    {
     "name": "stderr",
     "output_type": "stream",
     "text": [
      "100%|████████████████████████████████████████████████████████████████████████████████| 938/938 [00:14<00:00, 63.70it/s]\n",
      "  1%|▍                                                                                 | 5/938 [00:00<00:19, 48.05it/s]"
     ]
    },
    {
     "name": "stdout",
     "output_type": "stream",
     "text": [
      "train loss: 0.025694, val loss: 0.000446, accuracy: 98.38, time: 21.0847 min\n",
      "----------\n",
      "Epoch 79/99, current lr= 0.001\n"
     ]
    },
    {
     "name": "stderr",
     "output_type": "stream",
     "text": [
      "100%|████████████████████████████████████████████████████████████████████████████████| 938/938 [00:14<00:00, 65.23it/s]\n",
      "  1%|▌                                                                                 | 7/938 [00:00<00:14, 64.81it/s]"
     ]
    },
    {
     "name": "stdout",
     "output_type": "stream",
     "text": [
      "train loss: 0.025642, val loss: 0.000454, accuracy: 98.38, time: 21.3486 min\n",
      "----------\n",
      "Epoch 80/99, current lr= 0.001\n"
     ]
    },
    {
     "name": "stderr",
     "output_type": "stream",
     "text": [
      "100%|████████████████████████████████████████████████████████████████████████████████| 938/938 [00:14<00:00, 65.16it/s]\n",
      "  0%|▎                                                                                 | 4/938 [00:00<00:24, 38.55it/s]"
     ]
    },
    {
     "name": "stdout",
     "output_type": "stream",
     "text": [
      "train loss: 0.025791, val loss: 0.000468, accuracy: 98.37, time: 21.6145 min\n",
      "----------\n",
      "Epoch 81/99, current lr= 0.001\n"
     ]
    },
    {
     "name": "stderr",
     "output_type": "stream",
     "text": [
      "100%|████████████████████████████████████████████████████████████████████████████████| 938/938 [00:14<00:00, 62.66it/s]\n",
      "  1%|▌                                                                                 | 6/938 [00:00<00:17, 54.07it/s]"
     ]
    },
    {
     "name": "stdout",
     "output_type": "stream",
     "text": [
      "train loss: 0.025719, val loss: 0.000455, accuracy: 98.33, time: 21.8892 min\n",
      "----------\n",
      "Epoch 82/99, current lr= 0.001\n"
     ]
    },
    {
     "name": "stderr",
     "output_type": "stream",
     "text": [
      "100%|████████████████████████████████████████████████████████████████████████████████| 938/938 [00:14<00:00, 63.29it/s]\n",
      "  1%|▌                                                                                 | 6/938 [00:00<00:17, 53.57it/s]"
     ]
    },
    {
     "name": "stdout",
     "output_type": "stream",
     "text": [
      "train loss: 0.025663, val loss: 0.000462, accuracy: 98.30, time: 22.1607 min\n",
      "----------\n",
      "Epoch 83/99, current lr= 0.001\n"
     ]
    },
    {
     "name": "stderr",
     "output_type": "stream",
     "text": [
      "100%|████████████████████████████████████████████████████████████████████████████████| 938/938 [00:14<00:00, 65.76it/s]\n",
      "  1%|▌                                                                                 | 6/938 [00:00<00:17, 54.05it/s]"
     ]
    },
    {
     "name": "stdout",
     "output_type": "stream",
     "text": [
      "train loss: 0.025632, val loss: 0.000459, accuracy: 98.31, time: 22.4228 min\n",
      "----------\n",
      "Epoch 84/99, current lr= 0.001\n"
     ]
    },
    {
     "name": "stderr",
     "output_type": "stream",
     "text": [
      "100%|████████████████████████████████████████████████████████████████████████████████| 938/938 [00:14<00:00, 62.92it/s]\n",
      "  1%|▊                                                                                | 10/938 [00:00<00:19, 47.53it/s]"
     ]
    },
    {
     "name": "stdout",
     "output_type": "stream",
     "text": [
      "train loss: 0.025780, val loss: 0.000456, accuracy: 98.35, time: 22.6977 min\n",
      "----------\n",
      "Epoch 85/99, current lr= 0.001\n"
     ]
    },
    {
     "name": "stderr",
     "output_type": "stream",
     "text": [
      "100%|████████████████████████████████████████████████████████████████████████████████| 938/938 [00:14<00:00, 64.11it/s]\n",
      "  1%|▌                                                                                 | 7/938 [00:00<00:15, 59.85it/s]"
     ]
    },
    {
     "name": "stdout",
     "output_type": "stream",
     "text": [
      "train loss: 0.025735, val loss: 0.000460, accuracy: 98.33, time: 22.9666 min\n",
      "----------\n",
      "Epoch 86/99, current lr= 0.001\n"
     ]
    },
    {
     "name": "stderr",
     "output_type": "stream",
     "text": [
      "100%|████████████████████████████████████████████████████████████████████████████████| 938/938 [00:14<00:00, 63.25it/s]\n",
      "  1%|▍                                                                                 | 5/938 [00:00<00:19, 49.03it/s]"
     ]
    },
    {
     "name": "stdout",
     "output_type": "stream",
     "text": [
      "train loss: 0.025580, val loss: 0.000449, accuracy: 98.34, time: 23.2384 min\n",
      "----------\n",
      "Epoch 87/99, current lr= 0.001\n"
     ]
    },
    {
     "name": "stderr",
     "output_type": "stream",
     "text": [
      "100%|████████████████████████████████████████████████████████████████████████████████| 938/938 [00:14<00:00, 64.30it/s]\n",
      "  1%|▌                                                                                 | 6/938 [00:00<00:17, 52.17it/s]"
     ]
    },
    {
     "name": "stdout",
     "output_type": "stream",
     "text": [
      "train loss: 0.025818, val loss: 0.000445, accuracy: 98.40, time: 23.5066 min\n",
      "----------\n",
      "Epoch 88/99, current lr= 0.001\n"
     ]
    },
    {
     "name": "stderr",
     "output_type": "stream",
     "text": [
      "100%|████████████████████████████████████████████████████████████████████████████████| 938/938 [00:14<00:00, 62.91it/s]\n",
      "  1%|▌                                                                                 | 6/938 [00:00<00:17, 52.17it/s]"
     ]
    },
    {
     "name": "stdout",
     "output_type": "stream",
     "text": [
      "train loss: 0.025679, val loss: 0.000450, accuracy: 98.26, time: 23.7800 min\n",
      "----------\n",
      "Epoch 89/99, current lr= 0.001\n"
     ]
    },
    {
     "name": "stderr",
     "output_type": "stream",
     "text": [
      "100%|████████████████████████████████████████████████████████████████████████████████| 938/938 [00:15<00:00, 61.90it/s]\n",
      "  1%|▌                                                                                 | 6/938 [00:00<00:16, 56.69it/s]"
     ]
    },
    {
     "name": "stdout",
     "output_type": "stream",
     "text": [
      "train loss: 0.025774, val loss: 0.000474, accuracy: 98.24, time: 24.0580 min\n",
      "----------\n",
      "Epoch 90/99, current lr= 0.001\n"
     ]
    },
    {
     "name": "stderr",
     "output_type": "stream",
     "text": [
      "100%|████████████████████████████████████████████████████████████████████████████████| 938/938 [00:15<00:00, 60.69it/s]\n",
      "  1%|▌                                                                                 | 6/938 [00:00<00:17, 54.05it/s]"
     ]
    },
    {
     "name": "stdout",
     "output_type": "stream",
     "text": [
      "train loss: 0.025553, val loss: 0.000457, accuracy: 98.41, time: 24.3430 min\n",
      "----------\n",
      "Epoch 91/99, current lr= 0.001\n"
     ]
    },
    {
     "name": "stderr",
     "output_type": "stream",
     "text": [
      "100%|████████████████████████████████████████████████████████████████████████████████| 938/938 [00:14<00:00, 66.56it/s]\n",
      "  1%|█                                                                                | 12/938 [00:00<00:16, 57.62it/s]"
     ]
    },
    {
     "name": "stdout",
     "output_type": "stream",
     "text": [
      "train loss: 0.025748, val loss: 0.000448, accuracy: 98.41, time: 24.6025 min\n",
      "----------\n",
      "Epoch 92/99, current lr= 0.001\n"
     ]
    },
    {
     "name": "stderr",
     "output_type": "stream",
     "text": [
      "100%|████████████████████████████████████████████████████████████████████████████████| 938/938 [00:14<00:00, 66.47it/s]\n",
      "  1%|▌                                                                                 | 7/938 [00:00<00:14, 64.22it/s]"
     ]
    },
    {
     "name": "stdout",
     "output_type": "stream",
     "text": [
      "train loss: 0.025676, val loss: 0.000447, accuracy: 98.22, time: 24.8615 min\n",
      "----------\n",
      "Epoch 93/99, current lr= 0.001\n"
     ]
    },
    {
     "name": "stderr",
     "output_type": "stream",
     "text": [
      "100%|████████████████████████████████████████████████████████████████████████████████| 938/938 [00:14<00:00, 63.42it/s]\n",
      "  1%|▌                                                                                 | 6/938 [00:00<00:17, 54.55it/s]"
     ]
    },
    {
     "name": "stdout",
     "output_type": "stream",
     "text": [
      "train loss: 0.025688, val loss: 0.000457, accuracy: 98.37, time: 25.1334 min\n",
      "----------\n",
      "Epoch 94/99, current lr= 0.001\n"
     ]
    },
    {
     "name": "stderr",
     "output_type": "stream",
     "text": [
      "100%|████████████████████████████████████████████████████████████████████████████████| 938/938 [00:14<00:00, 63.84it/s]\n",
      "  1%|▌                                                                                 | 6/938 [00:00<00:18, 50.87it/s]"
     ]
    },
    {
     "name": "stdout",
     "output_type": "stream",
     "text": [
      "train loss: 0.025741, val loss: 0.000453, accuracy: 98.30, time: 25.4034 min\n",
      "----------\n",
      "Epoch 95/99, current lr= 0.001\n"
     ]
    },
    {
     "name": "stderr",
     "output_type": "stream",
     "text": [
      "100%|████████████████████████████████████████████████████████████████████████████████| 938/938 [00:14<00:00, 63.46it/s]\n",
      "  1%|▍                                                                                 | 5/938 [00:00<00:18, 50.00it/s]"
     ]
    },
    {
     "name": "stdout",
     "output_type": "stream",
     "text": [
      "train loss: 0.025665, val loss: 0.000451, accuracy: 98.33, time: 25.6750 min\n",
      "----------\n",
      "Epoch 96/99, current lr= 0.001\n"
     ]
    },
    {
     "name": "stderr",
     "output_type": "stream",
     "text": [
      "100%|████████████████████████████████████████████████████████████████████████████████| 938/938 [00:14<00:00, 62.84it/s]\n",
      "  1%|▉                                                                                | 11/938 [00:00<00:18, 50.66it/s]"
     ]
    },
    {
     "name": "stdout",
     "output_type": "stream",
     "text": [
      "train loss: 0.025655, val loss: 0.000458, accuracy: 98.35, time: 25.9504 min\n",
      "----------\n",
      "Epoch 97/99, current lr= 0.001\n"
     ]
    },
    {
     "name": "stderr",
     "output_type": "stream",
     "text": [
      "100%|████████████████████████████████████████████████████████████████████████████████| 938/938 [00:14<00:00, 63.94it/s]\n",
      "  1%|▌                                                                                 | 7/938 [00:00<00:15, 60.84it/s]"
     ]
    },
    {
     "name": "stdout",
     "output_type": "stream",
     "text": [
      "train loss: 0.025631, val loss: 0.000475, accuracy: 98.33, time: 26.2193 min\n",
      "----------\n",
      "Epoch 98/99, current lr= 0.001\n"
     ]
    },
    {
     "name": "stderr",
     "output_type": "stream",
     "text": [
      "100%|████████████████████████████████████████████████████████████████████████████████| 938/938 [00:14<00:00, 65.72it/s]\n",
      "  1%|▌                                                                                 | 6/938 [00:00<00:16, 55.55it/s]"
     ]
    },
    {
     "name": "stdout",
     "output_type": "stream",
     "text": [
      "train loss: 0.025657, val loss: 0.000463, accuracy: 98.24, time: 26.4816 min\n",
      "----------\n",
      "Epoch 99/99, current lr= 0.001\n"
     ]
    },
    {
     "name": "stderr",
     "output_type": "stream",
     "text": [
      "100%|████████████████████████████████████████████████████████████████████████████████| 938/938 [00:14<00:00, 63.23it/s]\n"
     ]
    },
    {
     "name": "stdout",
     "output_type": "stream",
     "text": [
      "train loss: 0.025665, val loss: 0.000455, accuracy: 98.29, time: 26.7540 min\n",
      "----------\n"
     ]
    }
   ],
   "source": [
    "### training for 100 epochs\n",
    "\n",
    "num_epochs= 100\n",
    "\n",
    "loss_history = {'train': [], 'val': []}\n",
    "metric_history = {'train': [], 'val': []}\n",
    "\n",
    "best_loss = float('inf')\n",
    "start_time = time.time()\n",
    "\n",
    "for epoch in range(num_epochs):\n",
    "    current_lr = get_lr(opt)\n",
    "    print('Epoch {}/{}, current lr= {}'.format(epoch, num_epochs-1, current_lr))\n",
    "\n",
    "    # train\n",
    "    student.train()\n",
    "\n",
    "    running_loss = 0.0\n",
    "    running_metric = 0.0\n",
    "    len_data = len(train_dl.dataset)\n",
    "\n",
    "    for xb, yb in tqdm(train_dl):\n",
    "        xb = xb.to(device)\n",
    "        yb = yb.to(device)\n",
    "\n",
    "        output = student(xb)\n",
    "        teacher_output = teacher(xb).detach()\n",
    "        loss_b, metric_b = distill_loss_batch(output, yb, teacher_output, loss_fn=distillation, opt=opt)\n",
    "        running_loss += loss_b\n",
    "        running_metric_b = metric_b\n",
    "    train_loss = running_loss / len_data\n",
    "    train_metric = running_metric / len_data\n",
    "\n",
    "    loss_history['train'].append(train_loss)\n",
    "    metric_history['train'].append(train_metric)\n",
    "\n",
    "    # validation\n",
    "    student.eval()\n",
    "    with torch.no_grad():\n",
    "        val_loss, val_metric = loss_epoch(student, loss_func, val_dl)\n",
    "    loss_history['val'].append(val_loss)\n",
    "    metric_history['val'].append(val_metric)\n",
    "\n",
    "\n",
    "    lr_scheduler.step(val_loss)\n",
    "\n",
    "    print('train loss: %.6f, val loss: %.6f, accuracy: %.2f, time: %.4f min' %(train_loss, val_loss, 100*val_metric, (time.time()-start_time)/60))\n",
    "    print('-'*10)"
   ]
  },
  {
   "cell_type": "code",
   "execution_count": 35,
   "id": "194d61ca-52b5-42e3-9cc0-1e1079baf832",
   "metadata": {
    "tags": []
   },
   "outputs": [
    {
     "data": {
      "image/png": "[encoded data removed]",
      "text/plain": [
       "<Figure size 432x288 with 1 Axes>"
      ]
     },
     "metadata": {
      "needs_background": "light"
     },
     "output_type": "display_data"
    },
    {
     "data": {
      "image/png": "[encoded data removed]",
      "text/plain": [
       "<Figure size 432x288 with 1 Axes>"
      ]
     },
     "metadata": {
      "needs_background": "light"
     },
     "output_type": "display_data"
    }
   ],
   "source": [
    "plt.title('Train-Val Loss')\n",
    "plt.plot(range(1, num_epochs+1), loss_history['train'], label='train')\n",
    "plt.plot(range(1, num_epochs+1), loss_history['val'], label='val')\n",
    "plt.ylabel('Loss')\n",
    "plt.xlabel('Training Epochs')\n",
    "plt.legend()\n",
    "plt.show()\n",
    "\n",
    "# plot train-val accuracy\n",
    "plt.title('Train-Val Accuracy')\n",
    "plt.plot(range(1, num_epochs+1), metric_history['train'], label='train')\n",
    "plt.plot(range(1, num_epochs+1), metric_history['val'], label='val')\n",
    "plt.ylabel('Accuracy')\n",
    "plt.xlabel('Training Epochs')\n",
    "plt.legend()\n",
    "plt.show()"
   ]
  },
  {
   "cell_type": "code",
   "execution_count": 36,
   "id": "768ffcba-b716-40c9-b1d4-0fac67bfd09f",
   "metadata": {},
   "outputs": [],
   "source": [
    "torch.save(student.state_dict(),'./models/student_weights.pt')"
   ]
  }
 ],
 "metadata": {
  "kernelspec": {
   "display_name": "Python 3",
   "language": "python",
   "name": "python3"
  },
  "language_info": {
   "codemirror_mode": {
    "name": "ipython",
    "version": 3
   },
   "file_extension": ".py",
   "mimetype": "text/x-python",
   "name": "python",
   "nbconvert_exporter": "python",
   "pygments_lexer": "ipython3",
   "version": "3.8.3"
  }
 },
 "nbformat": 4,
 "nbformat_minor": 5
}
