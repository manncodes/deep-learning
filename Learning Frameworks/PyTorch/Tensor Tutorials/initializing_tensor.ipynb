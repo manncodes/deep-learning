{
 "metadata": {
  "language_info": {
   "codemirror_mode": {
    "name": "ipython",
    "version": 3
   },
   "file_extension": ".py",
   "mimetype": "text/x-python",
   "name": "python",
   "nbconvert_exporter": "python",
   "pygments_lexer": "ipython3",
   "version": "3.9.5"
  },
  "orig_nbformat": 2,
  "kernelspec": {
   "name": "python395jvsc74a57bd0e2e7150d6fef36d5f82e9d43d35d088b66b4d59dae97ad4a61af3cc04b096018",
   "display_name": "Python 3.9.5 64-bit"
  },
  "metadata": {
   "interpreter": {
    "hash": "e2e7150d6fef36d5f82e9d43d35d088b66b4d59dae97ad4a61af3cc04b096018"
   }
  }
 },
 "nbformat": 4,
 "nbformat_minor": 2,
 "cells": [
  {
   "cell_type": "code",
   "execution_count": 1,
   "metadata": {},
   "outputs": [],
   "source": [
    "import torch"
   ]
  },
  {
   "cell_type": "code",
   "execution_count": 3,
   "metadata": {},
   "outputs": [],
   "source": [
    "device = \"cuda\" if torch.cuda.is_available() else \"cpu\"  # Cuda to run on GPU!"
   ]
  },
  {
   "cell_type": "code",
   "execution_count": 4,
   "metadata": {},
   "outputs": [],
   "source": [
    "# Initializing a Tensor in this case of shape 2x3 (2 rows, 3 columns)\n",
    "my_tensor = torch.tensor(\n",
    "    [[1, 2, 3], [4, 5, 6]], dtype=torch.float32, device=device, requires_grad=True\n",
    ")"
   ]
  },
  {
   "cell_type": "code",
   "execution_count": 5,
   "metadata": {},
   "outputs": [
    {
     "output_type": "stream",
     "name": "stdout",
     "text": [
      "Information about tensor: tensor([[1., 2., 3.],\n        [4., 5., 6.]], requires_grad=True)\nType of Tensor {my_tensor.dtype}\nDevice Tensor is on cpu\nShape of tensor torch.Size([2, 3])\nRequires gradient: True\n"
     ]
    }
   ],
   "source": [
    "# A few tensor attributes\n",
    "print(\n",
    "    f\"Information about tensor: {my_tensor}\"\n",
    ")  # Prints data of the tensor, device and grad info\n",
    "print(\n",
    "    \"Type of Tensor {my_tensor.dtype}\"\n",
    ")  # Prints dtype of the tensor (torch.float32, etc)\n",
    "print(\n",
    "    f\"Device Tensor is on {my_tensor.device}\"\n",
    ")  # Prints cpu/cuda (followed by gpu number)\n",
    "print(f\"Shape of tensor {my_tensor.shape}\")  # Prints shape, in this case 2x3\n",
    "print(f\"Requires gradient: {my_tensor.requires_grad}\")  # Prints true/false\n"
   ]
  },
  {
   "cell_type": "code",
   "execution_count": null,
   "metadata": {},
   "outputs": [],
   "source": [
    "#other common initializations"
   ]
  },
  {
   "cell_type": "code",
   "execution_count": 7,
   "metadata": {},
   "outputs": [
    {
     "output_type": "stream",
     "name": "stdout",
     "text": [
      "tensor([[0., 0., 0.],\n        [0., 0., 0.],\n        [0., 0., 0.]])\n"
     ]
    }
   ],
   "source": [
    "x = torch.empty(size=(3,3)) # Tensor of shape 3x3 with uninitialized data\n",
    "print(x)"
   ]
  },
  {
   "cell_type": "code",
   "execution_count": 9,
   "metadata": {},
   "outputs": [
    {
     "output_type": "stream",
     "name": "stdout",
     "text": [
      "tensor([[1., 1., 1.],\n        [1., 1., 1.],\n        [1., 1., 1.]])\n"
     ]
    }
   ],
   "source": [
    "x = torch.ones(size=(3,3)) # Tensor of shape 3x3 with ones\n",
    "print(x)"
   ]
  },
  {
   "cell_type": "code",
   "execution_count": 10,
   "metadata": {},
   "outputs": [
    {
     "output_type": "stream",
     "name": "stdout",
     "text": [
      "tensor([[0., 0., 0.],\n        [0., 0., 0.],\n        [0., 0., 0.]])\n"
     ]
    }
   ],
   "source": [
    "x = torch.zeros(size=(3,3))  \n",
    "print(x)"
   ]
  },
  {
   "cell_type": "code",
   "execution_count": 12,
   "metadata": {},
   "outputs": [
    {
     "output_type": "stream",
     "name": "stdout",
     "text": [
      "tensor([[0.0161, 0.4563, 0.8048],\n        [0.5509, 0.6276, 0.3385],\n        [0.8534, 0.5112, 0.1745]])\n"
     ]
    }
   ],
   "source": [
    "x = torch.rand((3,3))\n",
    "print(x)"
   ]
  },
  {
   "cell_type": "code",
   "execution_count": 14,
   "metadata": {},
   "outputs": [
    {
     "output_type": "stream",
     "name": "stdout",
     "text": [
      "tensor([[1., 0., 0., 0., 0.],\n        [0., 1., 0., 0., 0.],\n        [0., 0., 1., 0., 0.],\n        [0., 0., 0., 1., 0.],\n        [0., 0., 0., 0., 1.]])\n"
     ]
    }
   ],
   "source": [
    "x = torch.eye(5, 5)  # Returns Identity Matrix I, (I <-> Eye), matrix of shape 5x5\n",
    "print(x)"
   ]
  },
  {
   "cell_type": "code",
   "execution_count": 15,
   "metadata": {},
   "outputs": [
    {
     "output_type": "stream",
     "name": "stdout",
     "text": [
      "tensor([0, 1, 2, 3, 4])\n"
     ]
    }
   ],
   "source": [
    "x = torch.arange(\n",
    "    start=0, end=5, step=1\n",
    ")  # Tensor [0, 1, 2, 3, 4], note, can also do: torch.arange(11)\n",
    "print(x)"
   ]
  },
  {
   "cell_type": "code",
   "execution_count": 16,
   "metadata": {},
   "outputs": [
    {
     "output_type": "stream",
     "name": "stdout",
     "text": [
      "tensor([0.1000, 0.2000, 0.3000, 0.4000, 0.5000, 0.6000, 0.7000, 0.8000, 0.9000,\n        1.0000])\n"
     ]
    }
   ],
   "source": [
    "x = torch.linspace(start=0.1, end=1, steps=10)  # x = [0.1, 0.2, ..., 1]\n",
    "print(x)"
   ]
  },
  {
   "cell_type": "code",
   "execution_count": 19,
   "metadata": {},
   "outputs": [
    {
     "output_type": "stream",
     "name": "stdout",
     "text": [
      "tensor([[ 0.8909,  0.9536,  0.9704, -1.0229,  0.2099],\n        [ 0.4349, -0.9101, -1.1243, -1.2907,  0.6105],\n        [ 0.4580, -0.4896, -0.1047,  0.8374, -0.6181],\n        [ 0.6548, -0.1181,  1.4785, -0.3628,  3.5538],\n        [ 0.6114, -0.5081,  0.5757, -0.9958,  0.9832]])\n"
     ]
    }
   ],
   "source": [
    "x = torch.empty(size=(5, 5)).normal_(\n",
    "    mean=0, std=1\n",
    ")  # Normally distributed with mean=0, std=1\n",
    "print(x)"
   ]
  },
  {
   "cell_type": "code",
   "execution_count": 21,
   "metadata": {},
   "outputs": [
    {
     "output_type": "stream",
     "name": "stdout",
     "text": [
      "tensor([[0.0480, 0.7019, 0.8563, 0.0288, 0.8539]])\n"
     ]
    }
   ],
   "source": [
    "x = torch.empty(size=(1, 5)).uniform_(\n",
    "    0, 1\n",
    ")  # Values from a uniform distribution low=0, high=1\n",
    "print(x)"
   ]
  },
  {
   "cell_type": "code",
   "execution_count": 27,
   "metadata": {},
   "outputs": [
    {
     "output_type": "stream",
     "name": "stdout",
     "text": [
      "tensor([[1, 0, 0],\n        [0, 2, 0],\n        [0, 0, 3]])\n"
     ]
    }
   ],
   "source": [
    "x = torch.diag(torch.tensor([1,2,3]))  # Diagonal matrix of shape 3x3\n",
    "print(x)"
   ]
  },
  {
   "cell_type": "code",
   "execution_count": 32,
   "metadata": {},
   "outputs": [
    {
     "output_type": "stream",
     "name": "stdout",
     "text": [
      "tensor([0, 1, 2, 3])\nConverted Boolean: tensor([False,  True,  True,  True])\nConverted int16 tensor([0, 1, 2, 3], dtype=torch.int16)\nConverted int64 tensor([0, 1, 2, 3])\nConverted float16 tensor([0., 1., 2., 3.], dtype=torch.float16)\nConverted float32 tensor([0., 1., 2., 3.])\nConverted float64 tensor([0., 1., 2., 3.], dtype=torch.float64)\n"
     ]
    }
   ],
   "source": [
    "x = torch.arange(4)\n",
    "print(x)\n",
    "\n",
    "# convert to tensor to other types as: int64, bool, float, double\n",
    "print(f\"Converted Boolean: {x.bool()}\")  # Converted to Boolean: 1 if nonzero\n",
    "print(f\"Converted int16 {x.short()}\")  # Converted to int16\n",
    "print(\n",
    "    f\"Converted int64 {x.long()}\"\n",
    ")  # Converted to int64 (This one is very important, used super often)\n",
    "print(f\"Converted float16 {x.half()}\")  # Converted to float16\n",
    "print(\n",
    "    f\"Converted float32 {x.float()}\"\n",
    ")  # Converted to float32 (This one is very important, used super often)\n",
    "print(f\"Converted float64 {x.double()}\")  # Converted to float64\n"
   ]
  },
  {
   "cell_type": "code",
   "execution_count": 34,
   "metadata": {},
   "outputs": [],
   "source": [
    "import numpy as np"
   ]
  },
  {
   "cell_type": "code",
   "execution_count": 37,
   "metadata": {},
   "outputs": [
    {
     "output_type": "stream",
     "name": "stdout",
     "text": [
      "[[0. 0. 0. 0. 0.]\n [0. 0. 0. 0. 0.]\n [0. 0. 0. 0. 0.]\n [0. 0. 0. 0. 0.]\n [0. 0. 0. 0. 0.]]\n"
     ]
    }
   ],
   "source": [
    "#converting tensor to numpy array and vice versa\n",
    "np_array = np.zeros(shape = (5,5))\n",
    "print(np_array)"
   ]
  },
  {
   "cell_type": "code",
   "execution_count": 39,
   "metadata": {},
   "outputs": [
    {
     "output_type": "stream",
     "name": "stdout",
     "text": [
      "tensor([[0., 0., 0., 0., 0.],\n        [0., 0., 0., 0., 0.],\n        [0., 0., 0., 0., 0.],\n        [0., 0., 0., 0., 0.],\n        [0., 0., 0., 0., 0.]], dtype=torch.float64)\n"
     ]
    }
   ],
   "source": [
    "tensor = torch.from_numpy(np_array)\n",
    "print(tensor)"
   ]
  },
  {
   "cell_type": "code",
   "execution_count": 40,
   "metadata": {},
   "outputs": [
    {
     "output_type": "stream",
     "name": "stdout",
     "text": [
      "[[0. 0. 0. 0. 0.]\n [0. 0. 0. 0. 0.]\n [0. 0. 0. 0. 0.]\n [0. 0. 0. 0. 0.]\n [0. 0. 0. 0. 0.]]\n"
     ]
    }
   ],
   "source": [
    "np_array_converted = (tensor.numpy())\n",
    "print(np_array_converted)"
   ]
  },
  {
   "cell_type": "code",
   "execution_count": null,
   "metadata": {},
   "outputs": [],
   "source": []
  }
 ]
}